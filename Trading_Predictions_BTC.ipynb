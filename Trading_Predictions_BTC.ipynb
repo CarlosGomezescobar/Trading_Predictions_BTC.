#!/usr/bin/env python3
# -*- coding: utf-8 -*-
"""
Sistema de Predicción de Precios de Criptomonedas
Desarrollado para análisis, evaluación y predicción de precios de tokens/criptomonedas
Incluye análisis fundamental, técnico, y modelos de machine learning
"""

# Importación de librerías necesarias
import pandas as pd
import numpy as np
import matplotlib.pyplot as plt
import seaborn as sns
import yfinance as yf
import ccxt
import requests
import json
from datetime import datetime, timedelta
import time
from sklearn.preprocessing import MinMaxScaler
from sklearn.model_selection import train_test_split
from sklearn.metrics import mean_squared_error, mean_absolute_error, r2_score
import tensorflow as tf
from tensorflow.keras.models import Sequential
from tensorflow.keras.layers import LSTM, Dense, Dropout
from tensorflow.keras.callbacks import EarlyStopping
import warnings
warnings.filterwarnings('ignore')

# Configuración de visualización
plt.style.use('fivethirtyeight')
sns.set_style('whitegrid')

class CryptoDataCollector:
    """
    Clase para recolectar datos históricos de criptomonedas desde diferentes fuentes
    """
    
    def __init__(self):
        """Inicializa el recolector de datos"""
        self.binance = ccxt.binance()
        self.coinbase = ccxt.coinbasepro()
        self.glassnode_api_key = None  # Requiere registro en Glassnode
    
    def set_glassnode_api_key(self, api_key):
        """Establece la API key para Glassnode"""
        self.glassnode_api_key = api_key
    
    def get_historical_price_data(self, symbol, timeframe='1d', limit=1000, source='binance'):
        """
        Obtiene datos históricos de precios desde exchanges
        
        Args:
            symbol (str): Par de trading (ej. 'BTC/USDT')
            timeframe (str): Intervalo de tiempo ('1d', '4h', '1h', etc.)
            limit (int): Número de registros a obtener
            source (str): Exchange fuente ('binance' o 'coinbase')
            
        Returns:
            pandas.DataFrame: DataFrame con datos históricos
        """
        try:
            exchange = self.binance if source == 'binance' else self.coinbase
            ohlcv = exchange.fetch_ohlcv(symbol, timeframe, limit=limit)
            
            df = pd.DataFrame(ohlcv, columns=['timestamp', 'open', 'high', 'low', 'close', 'volume'])
            df['timestamp'] = pd.to_datetime(df['timestamp'], unit='ms')
            df.set_index('timestamp', inplace=True)
            
            return df
        except Exception as e:
            print(f"Error al obtener datos históricos: {e}")
            return None
    
    def get_onchain_metrics(self, coin='bitcoin', metric='mvrv_z_score', since=None):
        """
        Obtiene métricas on-chain desde Glassnode API
        
        Args:
            coin (str): Nombre de la criptomoneda ('bitcoin', 'ethereum', etc.)
            metric (str): Métrica a obtener ('mvrv_z_score', 'nupl', etc.)
            since (str): Fecha de inicio en formato ISO (ej. '2020-01-01')
            
        Returns:
            pandas.DataFrame: DataFrame con métricas on-chain
        """
        if not self.glassnode_api_key:
            print("Se requiere API key de Glassnode para métricas on-chain")
            return None
        
        url = f"https://api.glassnode.com/v1/metrics/{metric}"
        params = {
            'api_key': self.glassnode_api_key,
            'a': coin,
            'i': '24h'
        }
        
        if since:
            params['s'] = since
        
        try:
            response = requests.get(url, params=params)
            if response.status_code == 200:
                data = response.json()
                df = pd.DataFrame(data)
                df['t'] = pd.to_datetime(df['t'], unit='s')
                df.rename(columns={'t': 'timestamp', 'v': metric}, inplace=True)
                df.set_index('timestamp', inplace=True)
                return df
            else:
                print(f"Error en la solicitud: {response.status_code}")
                return None
        except Exception as e:
            print(f"Error al obtener métricas on-chain: {e}")
            return None
    
    def get_exchange_reserves(self, coin='BTC'):
        """
        Obtiene datos de reservas en exchanges (simulado, requiere API real)
        
        Args:
            coin (str): Símbolo de la criptomoneda
            
        Returns:
            pandas.DataFrame: DataFrame con datos de reservas
        """
        # Nota: Esta es una simulación, se requiere API real para datos precisos
        dates = pd.date_range(end=datetime.now(), periods=365)
        reserves = np.random.normal(2000000, 100000, size=365)
        # Tendencia descendente para simular acumulación
        trend = np.linspace(0, -200000, 365)
        reserves = reserves + trend
        
        df = pd.DataFrame({
            'timestamp': dates,
            'exchange_reserves': reserves
        })
        df.set_index('timestamp', inplace=True)
        return df
    
    def get_fear_greed_index(self):
        """
        Obtiene el índice de miedo y codicia de Alternative.me
        
        Returns:
            pandas.DataFrame: DataFrame con índice de miedo y codicia
        """
        url = "https://api.alternative.me/fng/?limit=365"
        try:
            response = requests.get(url)
            if response.status_code == 200:
                data = response.json()['data']
                df = pd.DataFrame(data)
                df['timestamp'] = pd.to_datetime(df['timestamp'], unit='s')
                df['value'] = df['value'].astype(int)
                df.rename(columns={'value': 'fear_greed_index'}, inplace=True)
                df.set_index('timestamp', inplace=True)
                return df.sort_index()
            else:
                print(f"Error en la solicitud: {response.status_code}")
                return None
        except Exception as e:
            print(f"Error al obtener índice de miedo y codicia: {e}")
            return None


class TechnicalAnalysis:
    """
    Clase para realizar análisis técnico en datos de criptomonedas
    """
    
    @staticmethod
    def add_moving_averages(df, windows=[50, 200]):
        """
        Añade medias móviles al DataFrame
        
        Args:
            df (pandas.DataFrame): DataFrame con datos de precios
            windows (list): Lista de períodos para las medias móviles
            
        Returns:
            pandas.DataFrame: DataFrame con medias móviles añadidas
        """
        for window in windows:
            df[f'MA_{window}'] = df['close'].rolling(window=window).mean()
        return df
    
    @staticmethod
    def add_rsi(df, window=14):
        """
        Añade el indicador RSI (Relative Strength Index) al DataFrame
        
        Args:
            df (pandas.DataFrame): DataFrame con datos de precios
            window (int): Período para el cálculo del RSI
            
        Returns:
            pandas.DataFrame: DataFrame con RSI añadido
        """
        delta = df['close'].diff()
        gain = delta.where(delta > 0, 0)
        loss = -delta.where(delta < 0, 0)
        
        avg_gain = gain.rolling(window=window).mean()
        avg_loss = loss.rolling(window=window).mean()
        
        rs = avg_gain / avg_loss
        df['RSI'] = 100 - (100 / (1 + rs))
        return df
    
    @staticmethod
    def add_bollinger_bands(df, window=20, num_std=2):
        """
        Añade bandas de Bollinger al DataFrame
        
        Args:
            df (pandas.DataFrame): DataFrame con datos de precios
            window (int): Período para el cálculo de las bandas
            num_std (int): Número de desviaciones estándar
            
        Returns:
            pandas.DataFrame: DataFrame con bandas de Bollinger añadidas
        """
        df['BB_middle'] = df['close'].rolling(window=window).mean()
        df['BB_std'] = df['close'].rolling(window=window).std()
        df['BB_upper'] = df['BB_middle'] + (df['BB_std'] * num_std)
        df['BB_lower'] = df['BB_middle'] - (df['BB_std'] * num_std)
        return df
    
    @staticmethod
    def add_macd(df, fast=12, slow=26, signal=9):
        """
        Añade el indicador MACD (Moving Average Convergence Divergence) al DataFrame
        
        Args:
            df (pandas.DataFrame): DataFrame con datos de precios
            fast (int): Período para la media móvil rápida
            slow (int): Período para la media móvil lenta
            signal (int): Período para la línea de señal
            
        Returns:
            pandas.DataFrame: DataFrame con MACD añadido
        """
        df['EMA_fast'] = df['close'].ewm(span=fast, adjust=False).mean()
        df['EMA_slow'] = df['close'].ewm(span=slow, adjust=False).mean()
        df['MACD'] = df['EMA_fast'] - df['EMA_slow']
        df['MACD_signal'] = df['MACD'].ewm(span=signal, adjust=False).mean()
        df['MACD_histogram'] = df['MACD'] - df['MACD_signal']
        return df
    
    @staticmethod
    def add_fibonacci_levels(df, trend='uptrend'):
        """
        Calcula niveles de retroceso de Fibonacci basados en máximos y mínimos recientes
        
        Args:
            df (pandas.DataFrame): DataFrame con datos de precios
            trend (str): Tendencia actual ('uptrend' o 'downtrend')
            
        Returns:
            dict: Diccionario con niveles de Fibonacci
        """
        if trend == 'uptrend':
            # Para tendencia alcista, calculamos retrocesos desde mínimo a máximo
            price_min = df['low'].min()
            price_max = df['high'].max()
        else:
            # Para tendencia bajista, calculamos extensiones desde máximo a mínimo
            price_min = df['high'].max()
            price_max = df['low'].min()
        
        diff = price_max - price_min
        
        levels = {
            '0.0': price_min,
            '0.236': price_min + 0.236 * diff,
            '0.382': price_min + 0.382 * diff,
            '0.5': price_min + 0.5 * diff,
            '0.618': price_min + 0.618 * diff,
            '0.786': price_min + 0.786 * diff,
            '1.0': price_max
        }
        
        return levels
    
    @staticmethod
    def identify_support_resistance(df, window=10):
        """
        Identifica niveles de soporte y resistencia
        
        Args:
            df (pandas.DataFrame): DataFrame con datos de precios
            window (int): Ventana para identificar máximos y mínimos locales
            
        Returns:
            tuple: Listas de niveles de soporte y resistencia
        """
        supports = []
        resistances = []
        
        for i in range(window, len(df) - window):
            if all(df['low'].iloc[i] <= df['low'].iloc[i-j] for j in range(1, window+1)) and \
               all(df['low'].iloc[i] <= df['low'].iloc[i+j] for j in range(1, window+1)):
                supports.append((df.index[i], df['low'].iloc[i]))
            
            if all(df['high'].iloc[i] >= df['high'].iloc[i-j] for j in range(1, window+1)) and \
               all(df['high'].iloc[i] >= df['high'].iloc[i+j] for j in range(1, window+1)):
                resistances.append((df.index[i], df['high'].iloc[i]))
        
        return supports, resistances


class FundamentalAnalysis:
    """
    Clase para realizar análisis fundamental de criptomonedas
    """
    
    @staticmethod
    def analyze_mvrv_z_score(mvrv_df):
        """
        Analiza el MVRV Z-Score para identificar oportunidades de compra/venta
        
        Args:
            mvrv_df (pandas.DataFrame): DataFrame con datos de MVRV Z-Score
            
        Returns:
            pandas.DataFrame: DataFrame con señales de compra/venta
        """
        signals = pd.DataFrame(index=mvrv_df.index)
        signals['mvrv_z_score'] = mvrv_df['mvrv_z_score']
        signals['buy_signal'] = signals['mvrv_z_score'] < 0
        signals['sell_signal'] = signals['mvrv_z_score'] > 7
        return signals
    
    @staticmethod
    def analyze_nupl(nupl_df):
        """
        Analiza el NUPL (Net Unrealized Profit/Loss) para identificar zonas de oportunidad
        
        Args:
            nupl_df (pandas.DataFrame): DataFrame con datos de NUPL
            
        Returns:
            pandas.DataFrame: DataFrame con zonas de oportunidad
        """
        zones = pd.DataFrame(index=nupl_df.index)
        zones['nupl'] = nupl_df['nupl']
        zones['opportunity_zone'] = zones['nupl'] < 0.25
        zones['euphoria_zone'] = zones['nupl'] > 0.75
        return zones
    
    @staticmethod
    def analyze_exchange_reserves(reserves_df):
        """
        Analiza las reservas en exchanges para identificar tendencias de acumulación
        
        Args:
            reserves_df (pandas.DataFrame): DataFrame con datos de reservas
            
        Returns:
            pandas.DataFrame: DataFrame con tendencias de acumulación
        """
        analysis = pd.DataFrame(index=reserves_df.index)
        analysis['exchange_reserves'] = reserves_df['exchange_reserves']
        analysis['reserves_30d_change'] = analysis['exchange_reserves'].pct_change(periods=30) * 100
        analysis['accumulation_signal'] = analysis['reserves_30d_change'] < -5  # Disminución del 5% en 30 días
        return analysis
    
    @staticmethod
    def analyze_fear_greed(fg_df):
        """
        Analiza el índice de miedo y codicia para identificar extremos de mercado
        
        Args:
            fg_df (pandas.DataFrame): DataFrame con índice de miedo y codicia
            
        Returns:
            pandas.DataFrame: DataFrame con señales basadas en extremos de mercado
        """
        signals = pd.DataFrame(index=fg_df.index)
        signals['fear_greed_index'] = fg_df['fear_greed_index']
        signals['extreme_fear'] = signals['fear_greed_index'] <= 20
        signals['extreme_greed'] = signals['fear_greed_index'] >= 80
        return signals


class MachineLearningPredictor:
    """
    Clase para implementar modelos de machine learning para predicción de precios
    """
    
    def __init__(self):
        """Inicializa el predictor de machine learning"""
        self.scaler = MinMaxScaler(feature_range=(0, 1))
        self.model = None
        self.X_scaler = None
        self.y_scaler = None
    
    def prepare_data(self, df, target_col='close', feature_cols=None, sequence_length=60, prediction_days=30):
        """
        Prepara los datos para el entrenamiento del modelo
        
        Args:
            df (pandas.DataFrame): DataFrame con datos históricos
            target_col (str): Columna objetivo para la predicción
            feature_cols (list): Lista de columnas a usar como características
            sequence_length (int): Longitud de la secuencia para LSTM
            prediction_days (int): Días a predecir en el futuro
            
        Returns:
            tuple: Datos de entrenamiento y prueba
        """
        if feature_cols is None:
            feature_cols = ['close', 'volume', 'RSI', 'MACD']
        
        # Asegurarse de que todas las columnas requeridas estén presentes
        for col in feature_cols + [target_col]:
            if col not in df.columns:
                raise ValueError(f"La columna {col} no está presente en el DataFrame")
        
        # Crear columna objetivo desplazada para predicción futura
        df[f'{target_col}_future'] = df[target_col].shift(-prediction_days)
        
        # Eliminar filas con valores NaN
        df = df.dropna()
        
        # Separar características y objetivo
        X = df[feature_cols].values
        y = df[f'{target_col}_future'].values.reshape(-1, 1)
        
        # Escalar datos
        self.X_scaler = MinMaxScaler(feature_range=(0, 1))
        self.y_scaler = MinMaxScaler(feature_range=(0, 1))
        X_scaled = self.X_scaler.fit_transform(X)
        y_scaled = self.y_scaler.fit_transform(y)
        
        # Crear secuencias para LSTM
        X_sequences, y_sequences = [], []
        for i in range(len(X_scaled) - sequence_length):
            X_sequences.append(X_scaled[i:i+sequence_length])
            y_sequences.append(y_scaled[i+sequence_length])
        
        X_sequences = np.array(X_sequences)
        y_sequences = np.array(y_sequences)
        
        # Dividir en conjuntos de entrenamiento y prueba
        split_idx = int(0.8 * len(X_sequences))
        X_train, X_test = X_sequences[:split_idx], X_sequences[split_idx:]
        y_train, y_test = y_sequences[:split_idx], y_sequences[split_idx:]
        
        return X_train, X_test, y_train, y_test
    
    def build_lstm_model(self, input_shape, units=50):
        """
        Construye un modelo LSTM para predicción de series temporales
        
        Args:
            input_shape (tuple): Forma de los datos de entrada
            units (int): Número de unidades en la capa LSTM
            
        Returns:
            tensorflow.keras.models.Sequential: Modelo LSTM
        """
        model = Sequential()
        model.add(LSTM(units=units, return_sequences=True, input_shape=input_shape))
        model.add(Dropout(0.2))
        model.add(LSTM(units=units, return_sequences=False))
        model.add(Dropout(0.2))
        model.add(Dense(units=1))
        
        model.compile(optimizer='adam', loss='mean_squared_error')
        
        return model
    
    def train_model(self, X_train, y_train, epochs=50, batch_size=32, validation_split=0.2):
        """
        Entrena el modelo LSTM
        
        Args:
            X_train (numpy.ndarray): Datos de entrenamiento
            y_train (numpy.ndarray): Etiquetas de entrenamiento
            epochs (int): Número de épocas de entrenamiento
            batch_size (int): Tamaño del lote
            validation_split (float): Proporción de datos para validación
            
        Returns:
            tensorflow.keras.models.Sequential: Modelo entrenado
        """
        input_shape = (X_train.shape[1], X_train.shape[2])
        self.model = self.build_lstm_model(input_shape)
        
        early_stopping = EarlyStopping(monitor='val_loss', patience=10, restore_best_weights=True)
        
        history = self.model.fit(
            X_train, y_train,
            epochs=epochs,
            batch_size=batch_size,
            validation_split=validation_split,
            callbacks=[early_stopping],
            verbose=1
        )
        
        return history
    
    def evaluate_model(self, X_test, y_test):
        """
        Evalúa el modelo con datos de prueba
        
        Args:
            X_test (numpy.ndarray): Datos de prueba
            y_test (numpy.ndarray): Etiquetas de prueba
            
        Returns:
            dict: Métricas de evaluación
        """
        if self.model is None:
            raise ValueError("El modelo no ha sido entrenado")
        
        y_pred_scaled = self.model.predict(X_test)
        y_pred = self.y_scaler.inverse_transform(y_pred_scaled)
        y_true = self.y_scaler.inverse_transform(y_test)
        
        mse = mean_squared_error(y_true, y_pred)
        mae = mean_absolute_error(y_true, y_pred)
        rmse = np.sqrt(mse)
        r2 = r2_score(y_true, y_pred)
        
        metrics = {
            'MSE': mse,
            'MAE': mae,
            'RMSE': rmse,
            'R2': r2
        }
        
        return metrics, y_true, y_pred
    
    def predict_future(self, last_sequence, days=30):
        """
        Predice precios futuros
        
        Args:
            last_sequence (numpy.ndarray): Última secuencia de datos
            days (int): Número de días a predecir
            
        Returns:
            numpy.ndarray: Predicciones de precios
        """
        if self.model is None:
            raise ValueError("El modelo no ha sido entrenado")
        
        predictions = []
        current_sequence = last_sequence.copy()
        
        for _ in range(days):
            # Predecir el siguiente valor
            scaled_prediction = self.model.predict(current_sequence.reshape(1, current_sequence.shape[0], current_sequence.shape[1]))
            # Convertir la predicción a escala original
            prediction = self.y_scaler.inverse_transform(scaled_prediction)[0][0]
            predictions.append(prediction)
            
            # Actualizar la secuencia para la siguiente predicción
            # Esto es una simplificación, en un caso real necesitaríamos actualizar todas las características
            next_input = current_sequence[0].copy()
            next_input[0] = scaled_prediction  # Asumiendo que el precio de cierre es la primera característica
            current_sequence = np.append(current_sequence[1:], [next_input], axis=0)
        
        return np.array(predictions)


class RiskManagement:
    """
    Clase para implementar estrategias de gestión de riesgo
    """
    
    @staticmethod
    def calculate_position_size(portfolio_value, risk_per_trade=0.02, stop_loss_percent=0.15):
        """
        Calcula el tamaño de posición basado en el riesgo por operación
        
        Args:
            portfolio_value (float): Valor total del portafolio
            risk_per_trade (float): Porcentaje de riesgo por operación (0.02 = 2%)
            stop_loss_percent (float): Porcentaje de stop loss (0.15 = 15%)
            
        Returns:
            float: Tamaño de posición recomendado
        """
        risk_amount = portfolio_value * risk_per_trade
        position_size = risk_amount / stop_loss_percent
        return position_size
    
    @staticmethod
    def set_stop_loss(entry_price, stop_loss_percent=0.15, trailing=False):
        """
        Establece el nivel de stop loss
        
        Args:
            entry_price (float): Precio de entrada
            stop_loss_percent (float): Porcentaje de stop loss (0.15 = 15%)
            trailing (bool): Si es un stop loss dinámico
            
        Returns:
            float: Nivel de stop loss
        """
        stop_loss_level = entry_price * (1 - stop_loss_percent)
        return stop_loss_level
    
    @staticmethod
    def set_take_profit_levels(entry_price, risk_reward_ratios=[1, 2, 3]):
        """
        Establece niveles de toma de beneficios basados en ratios riesgo/recompensa
        
        Args:
            entry_price (float): Precio de entrada
            risk_reward_ratios (list): Lista de ratios riesgo/recompensa
            
        Returns:
            list: Niveles de toma de beneficios
        """
        stop_loss_level = RiskManagement.set_stop_loss(entry_price)
        risk = entry_price - stop_loss_level
        
        take_profit_levels = []
        for ratio in risk_reward_ratios:
            take_profit = entry_price + (risk * ratio)
            take_profit_levels.append(take_profit)
        
        return take_profit_levels
    
    @staticmethod
    def calculate_risk_reward_ratio(entry_price, target_price, stop_loss):
        """
        Calcula el ratio riesgo/recompensa de una operación
        
        Args:
            entry_price (float): Precio de entrada
            target_price (float): Precio objetivo
            stop_loss (float): Nivel de stop loss
            
        Returns:
            float: Ratio riesgo/recompensa
        """
        reward = abs(target_price - entry_price)
        risk = abs(entry_price - stop_loss)
        
        if risk == 0:
            return float('inf')
        
        return reward / risk
    
    @staticmethod
    def calculate_kelly_criterion(win_rate, risk_reward_ratio):
        """
        Calcula el criterio de Kelly para el tamaño óptimo de posición
        
        Args:
            win_rate (float): Tasa de éxito (0.6 = 60%)
            risk_reward_ratio (float): Ratio riesgo/recompensa
            
        Returns:
            float: Porcentaje de Kelly
        """
        q = 1 - win_rate
        kelly = win_rate - (q / risk_reward_ratio)
        return max(0, kelly)  # No permitir valores negativos


class Visualization:
    """
    Clase para visualizar datos y resultados
    """
    
    @staticmethod
    def plot_price_with_indicators(df, title="Análisis de Precio con Indicadores Técnicos"):
        """
        Visualiza el precio con indicadores técnicos
        
        Args:
            df (pandas.DataFrame): DataFrame con datos de precios e indicadores
            title (str): Título del gráfico
        """
        plt.figure(figsize=(14, 10))
        
        # Gráfico de precios y medias móviles
        ax1 = plt.subplot(3, 1, 1)
        ax1.plot(df.index, df['close'], label='Precio de Cierre', color='blue', alpha=0.7)
        
        if 'MA_50' in df.columns:
            ax1.plot(df.index, df['MA_50'], label='MA 50', color='orange', alpha=0.7)
        
        if 'MA_200' in df.columns:
            ax1.plot(df.index, df['MA_200'], label='MA 200', color='red', alpha=0.7)
        
        if 'BB_upper' in df.columns and 'BB_lower' in df.columns:
            ax1.plot(df.index, df['BB_upper'], label='Banda Superior', color='gray', linestyle='--', alpha=0.5)
            ax1.plot(df.index, df['BB_middle'], label='Banda Media', color='gray', linestyle='-', alpha=0.5)
            ax1.plot(df.index, df['BB_lower'], label='Banda Inferior', color='gray', linestyle='--', alpha=0.5)
        
        ax1.set_title(title)
        ax1.set_ylabel('Precio')
        ax1.legend(loc='upper left')
        ax1.grid(True, alpha=0.3)
        
        # Gráfico de RSI
        if 'RSI' in df.columns:
            ax2 = plt.subplot(3, 1, 2, sharex=ax1)
            ax2.plot(df.index, df['RSI'], label='RSI', color='purple', alpha=0.7)
            ax2.axhline(y=70, color='red', linestyle='--', alpha=0.5)
            ax2.axhline(y=30, color='green', linestyle='--', alpha=0.5)
            ax2.set_ylabel('RSI')
            ax2.set_ylim(0, 100)
            ax2.legend(loc='upper left')
            ax2.grid(True, alpha=0.3)
        
        # Gráfico de MACD
        if 'MACD' in df.columns and 'MACD_signal' in df.columns:
            ax3 = plt.subplot(3, 1, 3, sharex=ax1)
            ax3.plot(df.index, df['MACD'], label='MACD', color='blue', alpha=0.7)
            ax3.plot(df.index, df['MACD_signal'], label='Señal', color='red', alpha=0.7)
            
            # Histograma de MACD
            if 'MACD_histogram' in df.columns:
                for i in range(len(df)):
                    if df['MACD_histogram'].iloc[i] >= 0:
                        ax3.bar(df.index[i], df['MACD_histogram'].iloc[i], color='green', alpha=0.5, width=1)
                    else:
                        ax3.bar(df.index[i], df['MACD_histogram'].iloc[i], color='red', alpha=0.5, width=1)
            
            ax3.set_ylabel('MACD')
            ax3.legend(loc='upper left')
            ax3.grid(True, alpha=0.3)
        
        plt.tight_layout()
        plt.show()
    
    @staticmethod
    def plot_fundamental_metrics(metrics_df, title="Análisis Fundamental"):
        """
        Visualiza métricas fundamentales
        
        Args:
            metrics_df (pandas.DataFrame): DataFrame con métricas fundamentales
            title (str): Título del gráfico
        """
        plt.figure(figsize=(14, 10))
        
        # Número de métricas a visualizar
        n_metrics = len(metrics_df.columns)
        
        for i, column in enumerate(metrics_df.columns):
            ax = plt.subplot(n_metrics, 1, i+1)
            ax.plot(metrics_df.index, metrics_df[column], label=column)
            ax.set_ylabel(column)
            ax.legend(loc='upper left')
            ax.grid(True, alpha=0.3)
            
            if i == 0:
                ax.set_title(title)
        
        plt.tight_layout()
        plt.show()
    
    @staticmethod
    def plot_prediction_results(y_true, y_pred, title="Resultados de Predicción"):
        """
        Visualiza resultados de predicción
        
        Args:
            y_true (numpy.ndarray): Valores reales
            y_pred (numpy.ndarray): Valores predichos
            title (str): Título del gráfico
        """
        plt.figure(figsize=(12, 6))
        
        plt.plot(y_true, label='Real', color='blue', alpha=0.7)
        plt.plot(y_pred, label='Predicción', color='red', alpha=0.7)
        
        plt.title(title)
        plt.xlabel('Tiempo')
        plt.ylabel('Precio')
        plt.legend()
        plt.grid(True, alpha=0.3)
        
        plt.tight_layout()
        plt.show()
    
    @staticmethod
    def plot_future_predictions(last_known_price, predictions, title="Predicción de Precios Futuros"):
        """
        Visualiza predicciones futuras
        
        Args:
            last_known_price (float): Último precio conocido
            predictions (numpy.ndarray): Predicciones futuras
            title (str): Título del gráfico
        """
        plt.figure(figsize=(12, 6))
        
        # Crear eje x para los días futuros
        days = np.arange(len(predictions) + 1)
        
        # Combinar último precio conocido con predicciones
        prices = np.concatenate(([last_known_price], predictions))
        
        plt.plot(days, prices, marker='o', linestyle='-', color='blue')
        
        # Marcar la separación entre datos conocidos y predicciones
        plt.axvline(x=0, color='red', linestyle='--', alpha=0.7)
        plt.text(0.1, min(prices), 'Inicio Predicción', color='red', fontsize=10)
        
        plt.title(title)
        plt.xlabel('Días en el Futuro')
        plt.ylabel('Precio Predicho')
        plt.grid(True, alpha=0.3)
        
        plt.tight_layout()
        plt.show()
    
    @staticmethod
    def plot_risk_reward_analysis(entry_price, stop_loss, take_profit_levels, title="Análisis de Riesgo/Recompensa"):
        """
        Visualiza análisis de riesgo/recompensa
        
        Args:
            entry_price (float): Precio de entrada
            stop_loss (float): Nivel de stop loss
            take_profit_levels (list): Niveles de toma de beneficios
            title (str): Título del gráfico
        """
        plt.figure(figsize=(10, 6))
        
        # Crear barras para visualizar los niveles
        labels = ['Stop Loss', 'Entrada'] + [f'TP {i+1}' for i in range(len(take_profit_levels))]
        values = [stop_loss, entry_price] + take_profit_levels
        
        # Calcular colores basados en si es ganancia o pérdida
        colors = ['red', 'blue'] + ['green'] * len(take_profit_levels)
        
        # Calcular porcentajes de cambio
        pct_changes = [(price - entry_price) / entry_price * 100 for price in values]
        
        plt.bar(labels, pct_changes, color=colors, alpha=0.7)
        
        # Añadir etiquetas con valores
        for i, (pct, price) in enumerate(zip(pct_changes, values)):
            plt.text(i, pct + (1 if pct >= 0 else -3), 
                     f'{price:.2f}\n({pct:.2f}%)', 
                     ha='center', va='center', fontsize=9)
        
        plt.axhline(y=0, color='black', linestyle='-', alpha=0.3)
        
        plt.title(title)
        plt.ylabel('Cambio Porcentual (%)')
        plt.grid(True, axis='y', alpha=0.3)
        
        plt.tight_layout()
        plt.show()


class CryptoPredictionSystem:
    """
    Clase principal que integra todos los componentes del sistema
    """
    
    def __init__(self):
        """Inicializa el sistema de predicción de criptomonedas"""
        self.data_collector = CryptoDataCollector()
        self.technical_analyzer = TechnicalAnalysis()
        self.fundamental_analyzer = FundamentalAnalysis()
        self.ml_predictor = MachineLearningPredictor()
        self.risk_manager = RiskManagement()
        self.visualizer = Visualization()
        
        self.price_data = None
        self.onchain_data = None
        self.fear_greed_data = None
        self.exchange_reserves_data = None
        self.combined_data = None
        
        self.model_trained = False
        self.prediction_results = None
    
    def set_glassnode_api_key(self, api_key):
        """Establece la API key para Glassnode"""
        self.data_collector.set_glassnode_api_key(api_key)
    
    def collect_data(self, symbol='BTC/USDT', timeframe='1d', limit=1000, source='binance'):
        """
        Recolecta todos los datos necesarios para el análisis
        
        Args:
            symbol (str): Par de trading
            timeframe (str): Intervalo de tiempo
            limit (int): Número de registros
            source (str): Exchange fuente
        """
        print(f"Recolectando datos de precios para {symbol}...")
        self.price_data = self.data_collector.get_historical_price_data(symbol, timeframe, limit, source)
        
        if self.price_data is None:
            print("Error al obtener datos de precios. Verificar conexión o parámetros.")
            return False
        
        print("Recolectando datos de índice de miedo y codicia...")
        self.fear_greed_data = self.data_collector.get_fear_greed_index()
        
        print("Simulando datos de reservas en exchanges...")
        self.exchange_reserves_data = self.data_collector.get_exchange_reserves()
        
        # Si se ha configurado la API key de Glassnode, obtener métricas on-chain
        if self.data_collector.glassnode_api_key:
            print("Recolectando métricas on-chain...")
            self.onchain_data = {
                'mvrv_z_score': self.data_collector.get_onchain_metrics(metric='mvrv_z_score'),
                'nupl': self.data_collector.get_onchain_metrics(metric='nupl')
            }
        
        print("Datos recolectados con éxito.")
        return True
    
    def prepare_technical_indicators(self):
        """
        Prepara indicadores técnicos para el análisis
        """
        if self.price_data is None:
            print("No hay datos de precios disponibles. Ejecutar collect_data primero.")
            return False
        
        print("Calculando indicadores técnicos...")
        
        # Añadir medias móviles
        self.price_data = self.technical_analyzer.add_moving_averages(self.price_data)
        
        # Añadir RSI
        self.price_data = self.technical_analyzer.add_rsi(self.price_data)
        
        # Añadir bandas de Bollinger
        self.price_data = self.technical_analyzer.add_bollinger_bands(self.price_data)
        
        # Añadir MACD
        self.price_data = self.technical_analyzer.add_macd(self.price_data)
        
        print("Indicadores técnicos calculados con éxito.")
        return True
    
    def combine_all_data(self):
        """
        Combina todos los datos recolectados en un único DataFrame
        """
        if self.price_data is None:
            print("No hay datos de precios disponibles. Ejecutar collect_data primero.")
            return False
        
        print("Combinando todos los datos...")
        
        # Comenzar con los datos de precios
        self.combined_data = self.price_data.copy()
        
        # Añadir índice de miedo y codicia si está disponible
        if self.fear_greed_data is not None:
            self.combined_data = pd.merge(
                self.combined_data,
                self.fear_greed_data[['fear_greed_index']],
                left_index=True,
                right_index=True,
                how='left'
            )
        
        # Añadir reservas en exchanges si están disponibles
        if self.exchange_reserves_data is not None:
            self.combined_data = pd.merge(
                self.combined_data,
                self.exchange_reserves_data[['exchange_reserves']],
                left_index=True,
                right_index=True,
                how='left'
            )
        
        # Añadir métricas on-chain si están disponibles
        if self.onchain_data is not None:
            for metric_name, metric_df in self.onchain_data.items():
                if metric_df is not None:
                    self.combined_data = pd.merge(
                        self.combined_data,
                        metric_df,
                        left_index=True,
                        right_index=True,
                        how='left'
                    )
        
        # Rellenar valores faltantes
        self.combined_data = self.combined_data.fillna(method='ffill').fillna(method='bfill')
        
        print("Datos combinados con éxito.")
        return True
    
    def train_prediction_model(self, feature_cols=None, sequence_length=60, prediction_days=30):
        """
        Entrena el modelo de predicción
        
        Args:
            feature_cols (list): Lista de columnas a usar como características
            sequence_length (int): Longitud de la secuencia para LSTM
            prediction_days (int): Días a predecir en el futuro
        """
        if self.combined_data is None:
            print("No hay datos combinados disponibles. Ejecutar combine_all_data primero.")
            return False
        
        if feature_cols is None:
            feature_cols = ['close', 'volume', 'RSI', 'MACD']
            # Añadir columnas adicionales si están disponibles
            for col in ['fear_greed_index', 'exchange_reserves', 'mvrv_z_score', 'nupl']:
                if col in self.combined_data.columns:
                    feature_cols.append(col)
        
        print(f"Entrenando modelo de predicción con características: {feature_cols}")
        
        try:
            # Preparar datos para el entrenamiento
            X_train, X_test, y_train, y_test = self.ml_predictor.prepare_data(
                self.combined_data,
                feature_cols=feature_cols,
                sequence_length=sequence_length,
                prediction_days=prediction_days
            )
            
            # Entrenar modelo
            history = self.ml_predictor.train_model(X_train, y_train)
            
            # Evaluar modelo
            metrics, y_true, y_pred = self.ml_predictor.evaluate_model(X_test, y_test)
            
            print("Métricas de evaluación del modelo:")
            for metric_name, metric_value in metrics.items():
                print(f"{metric_name}: {metric_value:.4f}")
            
            self.prediction_results = {
                'metrics': metrics,
                'y_true': y_true,
                'y_pred': y_pred
            }
            
            self.model_trained = True
            print("Modelo entrenado con éxito.")
            return True
        
        except Exception as e:
            print(f"Error al entrenar el modelo: {e}")
            return False
    
    def predict_future_prices(self, days=30):
        """
        Predice precios futuros
        
        Args:
            days (int): Número de días a predecir
            
        Returns:
            numpy.ndarray: Predicciones de precios
        """
        if not self.model_trained:
            print("El modelo no ha sido entrenado. Ejecutar train_prediction_model primero.")
            return None
        
        print(f"Prediciendo precios para los próximos {days} días...")
        
        # Obtener la última secuencia de datos
        feature_cols = ['close', 'volume', 'RSI', 'MACD']
        for col in ['fear_greed_index', 'exchange_reserves', 'mvrv_z_score', 'nupl']:
            if col in self.combined_data.columns:
                feature_cols.append(col)
        
        last_sequence = self.combined_data[feature_cols].values[-60:]
        last_sequence = self.ml_predictor.X_scaler.transform(last_sequence)
        
        # Predecir precios futuros
        predictions = self.ml_predictor.predict_future(last_sequence, days)
        
        print("Predicciones completadas.")
        return predictions
    
    def generate_trading_signals(self):
        """
        Genera señales de trading basadas en análisis técnico y fundamental
        
        Returns:
            pandas.DataFrame: DataFrame con señales de trading
        """
        if self.combined_data is None:
            print("No hay datos combinados disponibles. Ejecutar combine_all_data primero.")
            return None
        
        print("Generando señales de trading...")
        
        signals = pd.DataFrame(index=self.combined_data.index)
        signals['close'] = self.combined_data['close']
        
        # Señales basadas en medias móviles
        if 'MA_50' in self.combined_data.columns and 'MA_200' in self.combined_data.columns:
            signals['golden_cross'] = (self.combined_data['MA_50'] > self.combined_data['MA_200']) & \
                                     (self.combined_data['MA_50'].shift(1) <= self.combined_data['MA_200'].shift(1))
            signals['death_cross'] = (self.combined_data['MA_50'] < self.combined_data['MA_200']) & \
                                    (self.combined_data['MA_50'].shift(1) >= self.combined_data['MA_200'].shift(1))
        
        # Señales basadas en RSI
        if 'RSI' in self.combined_data.columns:
            signals['rsi_oversold'] = self.combined_data['RSI'] < 30
            signals['rsi_overbought'] = self.combined_data['RSI'] > 70
        
        # Señales basadas en MACD
        if 'MACD' in self.combined_data.columns and 'MACD_signal' in self.combined_data.columns:
            signals['macd_bullish_cross'] = (self.combined_data['MACD'] > self.combined_data['MACD_signal']) & \
                                           (self.combined_data['MACD'].shift(1) <= self.combined_data['MACD_signal'].shift(1))
            signals['macd_bearish_cross'] = (self.combined_data['MACD'] < self.combined_data['MACD_signal']) & \
                                           (self.combined_data['MACD'].shift(1) >= self.combined_data['MACD_signal'].shift(1))
        
        # Señales basadas en bandas de Bollinger
        if 'BB_upper' in self.combined_data.columns and 'BB_lower' in self.combined_data.columns:
            signals['bb_upper_touch'] = self.combined_data['close'] >= self.combined_data['BB_upper']
            signals['bb_lower_touch'] = self.combined_data['close'] <= self.combined_data['BB_lower']
        
        # Señales basadas en índice de miedo y codicia
        if 'fear_greed_index' in self.combined_data.columns:
            signals['extreme_fear'] = self.combined_data['fear_greed_index'] <= 20
            signals['extreme_greed'] = self.combined_data['fear_greed_index'] >= 80
        
        # Señales basadas en MVRV Z-Score
        if 'mvrv_z_score' in self.combined_data.columns:
            signals['mvrv_buy_zone'] = self.combined_data['mvrv_z_score'] < 0
            signals['mvrv_sell_zone'] = self.combined_data['mvrv_z_score'] > 7
        
        # Señales basadas en NUPL
        if 'nupl' in self.combined_data.columns:
            signals['nupl_opportunity'] = self.combined_data['nupl'] < 0.25
            signals['nupl_euphoria'] = self.combined_data['nupl'] > 0.75
        
        # Señales basadas en reservas en exchanges
        if 'exchange_reserves' in self.combined_data.columns:
            signals['reserves_decreasing'] = self.combined_data['exchange_reserves'].pct_change(30) < -0.05
        
        # Señal de compra combinada
        buy_conditions = []
        if 'rsi_oversold' in signals.columns:
            buy_conditions.append(signals['rsi_oversold'])
        if 'macd_bullish_cross' in signals.columns:
            buy_conditions.append(signals['macd_bullish_cross'])
        if 'bb_lower_touch' in signals.columns:
            buy_conditions.append(signals['bb_lower_touch'])
        if 'extreme_fear' in signals.columns:
            buy_conditions.append(signals['extreme_fear'])
        if 'mvrv_buy_zone' in signals.columns:
            buy_conditions.append(signals['mvrv_buy_zone'])
        if 'nupl_opportunity' in signals.columns:
            buy_conditions.append(signals['nupl_opportunity'])
        
        if buy_conditions:
            signals['buy_signal'] = pd.concat(buy_conditions, axis=1).sum(axis=1) >= 2  # Al menos 2 condiciones
        
        # Señal de venta combinada
        sell_conditions = []
        if 'rsi_overbought' in signals.columns:
            sell_conditions.append(signals['rsi_overbought'])
        if 'macd_bearish_cross' in signals.columns:
            sell_conditions.append(signals['macd_bearish_cross'])
        if 'bb_upper_touch' in signals.columns:
            sell_conditions.append(signals['bb_upper_touch'])
        if 'extreme_greed' in signals.columns:
            sell_conditions.append(signals['extreme_greed'])
        if 'mvrv_sell_zone' in signals.columns:
            sell_conditions.append(signals['mvrv_sell_zone'])
        if 'nupl_euphoria' in signals.columns:
            sell_conditions.append(signals['nupl_euphoria'])
        
        if sell_conditions:
            signals['sell_signal'] = pd.concat(sell_conditions, axis=1).sum(axis=1) >= 2  # Al menos 2 condiciones
        
        print("Señales de trading generadas con éxito.")
        return signals
    
    def backtest_strategy(self, signals, initial_capital=10000):
        """
        Realiza un backtest de la estrategia de trading
        
        Args:
            signals (pandas.DataFrame): DataFrame con señales de trading
            initial_capital (float): Capital inicial
            
        Returns:
            pandas.DataFrame: Resultados del backtest
        """
        if 'buy_signal' not in signals.columns or 'sell_signal' not in signals.columns:
            print("Las señales de compra/venta no están disponibles en el DataFrame.")
            return None
        
        print("Realizando backtest de la estrategia...")
        
        # Crear DataFrame para el backtest
        backtest = pd.DataFrame(index=signals.index)
        backtest['close'] = signals['close']
        backtest['buy_signal'] = signals['buy_signal']
        backtest['sell_signal'] = signals['sell_signal']
        
        # Inicializar variables
        position = 0
        entry_price = 0
        capital = initial_capital
        shares = 0
        trades = []
        
        # Recorrer los datos
        for i in range(len(backtest)):
            date = backtest.index[i]
            price = backtest['close'].iloc[i]
            
            # Señal de compra y no hay posición abierta
            if backtest['buy_signal'].iloc[i] and position == 0:
                # Calcular número de acciones a comprar (90% del capital)
                shares = (capital * 0.9) / price
                entry_price = price
                position = 1
                trades.append({
                    'date': date,
                    'type': 'buy',
                    'price': price,
                    'shares': shares,
                    'value': shares * price
                })
            
            # Señal de venta y hay posición abierta
            elif backtest['sell_signal'].iloc[i] and position == 1:
                # Vender todas las acciones
                capital = shares * price
                position = 0
                trades.append({
                    'date': date,
                    'type': 'sell',
                    'price': price,
                    'shares': shares,
                    'value': shares * price,
                    'profit': shares * (price - entry_price),
                    'profit_pct': (price / entry_price - 1) * 100
                })
                shares = 0
        
        # Si queda una posición abierta al final, cerrarla al último precio
        if position == 1:
            last_date = backtest.index[-1]
            last_price = backtest['close'].iloc[-1]
            capital = shares * last_price
            trades.append({
                'date': last_date,
                'type': 'sell',
                'price': last_price,
                'shares': shares,
                'value': shares * last_price,
                'profit': shares * (last_price - entry_price),
                'profit_pct': (last_price / entry_price - 1) * 100
            })
        
        # Crear DataFrame con los resultados
        trades_df = pd.DataFrame(trades)
        
        # Calcular métricas de rendimiento
        if len(trades_df) > 0:
            # Filtrar solo operaciones de venta para calcular ganancias
            sell_trades = trades_df[trades_df['type'] == 'sell']
            
            total_profit = sell_trades['profit'].sum() if 'profit' in sell_trades.columns else 0
            win_trades = sell_trades[sell_trades['profit'] > 0] if 'profit' in sell_trades.columns else pd.DataFrame()
            loss_trades = sell_trades[sell_trades['profit'] <= 0] if 'profit' in sell_trades.columns else pd.DataFrame()
            
            win_rate = len(win_trades) / len(sell_trades) if len(sell_trades) > 0 else 0
            avg_profit = win_trades['profit_pct'].mean() if len(win_trades) > 0 else 0
            avg_loss = loss_trades['profit_pct'].mean() if len(loss_trades) > 0 else 0
            
            profit_factor = abs(win_trades['profit'].sum() / loss_trades['profit'].sum()) if len(loss_trades) > 0 and loss_trades['profit'].sum() != 0 else float('inf')
            
            final_capital = capital
            total_return = (final_capital / initial_capital - 1) * 100
            
            print(f"Resultados del backtest:")
            print(f"Capital inicial: ${initial_capital:.2f}")
            print(f"Capital final: ${final_capital:.2f}")
            print(f"Retorno total: {total_return:.2f}%")
            print(f"Número de operaciones: {len(sell_trades)}")
            print(f"Tasa de éxito: {win_rate:.2f}")
            print(f"Ganancia promedio: {avg_profit:.2f}%")
            print(f"Pérdida promedio: {avg_loss:.2f}%")
            print(f"Factor de beneficio: {profit_factor:.2f}")
        else:
            print("No se realizaron operaciones durante el período de backtest.")
        
        return trades_df
    
    def visualize_results(self):
        """
        Visualiza los resultados del análisis y predicción
        """
        if self.combined_data is None:
            print("No hay datos combinados disponibles. Ejecutar combine_all_data primero.")
            return False
        
        print("Visualizando resultados...")
        
        # Visualizar precio con indicadores técnicos
        self.visualizer.plot_price_with_indicators(self.combined_data)
        
        # Visualizar métricas fundamentales si están disponibles
        fundamental_metrics = {}
        for col in ['fear_greed_index', 'mvrv_z_score', 'nupl', 'exchange_reserves']:
            if col in self.combined_data.columns:
                fundamental_metrics[col] = self.combined_data[col]
        
        if fundamental_metrics:
            self.visualizer.plot_fundamental_metrics(pd.DataFrame(fundamental_metrics))
        
        # Visualizar resultados de predicción si el modelo ha sido entrenado
        if self.model_trained and self.prediction_results is not None:
            self.visualizer.plot_prediction_results(
                self.prediction_results['y_true'],
                self.prediction_results['y_pred'],
                title="Comparación de Predicciones vs. Valores Reales"
            )
        
        # Visualizar predicciones futuras
        future_predictions = self.predict_future_prices(30)
        if future_predictions is not None:
            last_price = self.combined_data['close'].iloc[-1]
            self.visualizer.plot_future_predictions(
                last_price,
                future_predictions,
                title="Predicción de Precios para los Próximos 30 Días"
            )
        
        # Generar y visualizar señales de trading
        signals = self.generate_trading_signals()
        if signals is not None:
            # Visualizar backtest
            trades = self.backtest_strategy(signals)
            
            # Si hay operaciones, visualizar análisis de riesgo/recompensa para la última compra
            if trades is not None and len(trades) > 0 and 'buy' in trades['type'].values:
                last_buy = trades[trades['type'] == 'buy'].iloc[-1]
                entry_price = last_buy['price']
                
                # Calcular stop loss y take profit
                stop_loss = self.risk_manager.set_stop_loss(entry_price)
                take_profit_levels = self.risk_manager.set_take_profit_levels(entry_price)
                
                self.visualizer.plot_risk_reward_analysis(
                    entry_price,
                    stop_loss,
                    take_profit_levels,
                    title="Análisis de Riesgo/Recompensa para la Última Operación"
                )
        
        print("Visualización completada.")
        return True
    
    def run_full_analysis(self, symbol='BTC/USDT', timeframe='1d', limit=1000, source='binance'):
        """
        Ejecuta el análisis completo
        
        Args:
            symbol (str): Par de trading
            timeframe (str): Intervalo de tiempo
            limit (int): Número de registros
            source (str): Exchange fuente
        """
        print(f"Iniciando análisis completo para {symbol}...")
        
        # Recolectar datos
        if not self.collect_data(symbol, timeframe, limit, source):
            return False
        
        # Preparar indicadores técnicos
        if not self.prepare_technical_indicators():
            return False
        
        # Combinar todos los datos
        if not self.combine_all_data():
            return False
        
        # Entrenar modelo de predicción
        if not self.train_prediction_model():
            return False
        
        # Visualizar resultados
        if not self.visualize_results():
            return False
        
        print("Análisis completo finalizado con éxito.")
        return True


# Ejemplo de uso del sistema
if __name__ == "__main__":
    # Crear instancia del sistema
    system = CryptoPredictionSystem()
    
    # Configurar API key de Glassnode (opcional)
    # system.set_glassnode_api_key("tu_api_key")
    
    # Ejecutar análisis completo
    system.run_full_analysis(symbol='BTC/USDT', timeframe='1d', limit=500)
